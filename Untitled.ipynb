{
 "cells": [
  {
   "cell_type": "code",
   "execution_count": 1,
   "metadata": {},
   "outputs": [
    {
     "name": "stdout",
     "output_type": "stream",
     "text": [
      "/home/bryanbed/Projects/RoMeLa_Vision/MaskTrackRCNN\r\n"
     ]
    }
   ],
   "source": [
    "!pwd"
   ]
  },
  {
   "cell_type": "code",
   "execution_count": 26,
   "metadata": {},
   "outputs": [
    {
     "name": "stdout",
     "output_type": "stream",
     "text": [
      "Building roi align op...\n",
      "running build_ext\n",
      "building 'roi_align_cuda' extension\n",
      "creating /home/bryanbed/Projects/RoMeLa_Vision/MaskTrackRCNN/mmdet/ops/roi_align/build\n",
      "creating /home/bryanbed/Projects/RoMeLa_Vision/MaskTrackRCNN/mmdet/ops/roi_align/build/temp.linux-x86_64-3.7\n",
      "creating /home/bryanbed/Projects/RoMeLa_Vision/MaskTrackRCNN/mmdet/ops/roi_align/build/temp.linux-x86_64-3.7/src\n",
      "Emitting ninja build file /home/bryanbed/Projects/RoMeLa_Vision/MaskTrackRCNN/mmdet/ops/roi_align/build/temp.linux-x86_64-3.7/build.ninja...\n",
      "Compiling objects...\n",
      "Allowing ninja to set a default number of workers... (overridable by setting the environment variable MAX_JOBS=N)\n",
      "[1/2] /usr/local/cuda-10.1/bin/nvcc -I/home/bryanbed/anaconda3/envs/conda_mmdetection/lib/python3.7/site-packages/torch/include -I/home/bryanbed/anaconda3/envs/conda_mmdetection/lib/python3.7/site-packages/torch/include/torch/csrc/api/include -I/home/bryanbed/anaconda3/envs/conda_mmdetection/lib/python3.7/site-packages/torch/include/TH -I/home/bryanbed/anaconda3/envs/conda_mmdetection/lib/python3.7/site-packages/torch/include/THC -I/usr/local/cuda-10.1/include -I/home/bryanbed/anaconda3/envs/conda_mmdetection/include/python3.7m -c -c /home/bryanbed/Projects/RoMeLa_Vision/MaskTrackRCNN/mmdet/ops/roi_align/src/roi_align_kernel.cu -o /home/bryanbed/Projects/RoMeLa_Vision/MaskTrackRCNN/mmdet/ops/roi_align/build/temp.linux-x86_64-3.7/src/roi_align_kernel.o -D__CUDA_NO_HALF_OPERATORS__ -D__CUDA_NO_HALF_CONVERSIONS__ -D__CUDA_NO_HALF2_OPERATORS__ --expt-relaxed-constexpr --compiler-options ''\"'\"'-fPIC'\"'\"'' -DTORCH_API_INCLUDE_EXTENSION_H -DTORCH_EXTENSION_NAME=roi_align_cuda -D_GLIBCXX_USE_CXX11_ABI=0 -gencode=arch=compute_61,code=sm_61 -std=c++14\n",
      "[2/2] c++ -MMD -MF /home/bryanbed/Projects/RoMeLa_Vision/MaskTrackRCNN/mmdet/ops/roi_align/build/temp.linux-x86_64-3.7/src/roi_align_cuda.o.d -pthread -B /home/bryanbed/anaconda3/envs/conda_mmdetection/compiler_compat -Wl,--sysroot=/ -Wsign-compare -DNDEBUG -g -fwrapv -O3 -Wall -Wstrict-prototypes -fPIC -I/home/bryanbed/anaconda3/envs/conda_mmdetection/lib/python3.7/site-packages/torch/include -I/home/bryanbed/anaconda3/envs/conda_mmdetection/lib/python3.7/site-packages/torch/include/torch/csrc/api/include -I/home/bryanbed/anaconda3/envs/conda_mmdetection/lib/python3.7/site-packages/torch/include/TH -I/home/bryanbed/anaconda3/envs/conda_mmdetection/lib/python3.7/site-packages/torch/include/THC -I/usr/local/cuda-10.1/include -I/home/bryanbed/anaconda3/envs/conda_mmdetection/include/python3.7m -c -c /home/bryanbed/Projects/RoMeLa_Vision/MaskTrackRCNN/mmdet/ops/roi_align/src/roi_align_cuda.cpp -o /home/bryanbed/Projects/RoMeLa_Vision/MaskTrackRCNN/mmdet/ops/roi_align/build/temp.linux-x86_64-3.7/src/roi_align_cuda.o -DTORCH_API_INCLUDE_EXTENSION_H -DTORCH_EXTENSION_NAME=roi_align_cuda -D_GLIBCXX_USE_CXX11_ABI=0 -std=c++14\n",
      "cc1plus: warning: command line option ‘-Wstrict-prototypes’ is valid for C/ObjC but not for C++\n",
      "In file included from /home/bryanbed/anaconda3/envs/conda_mmdetection/lib/python3.7/site-packages/torch/include/ATen/Parallel.h:149,\n",
      "                 from /home/bryanbed/anaconda3/envs/conda_mmdetection/lib/python3.7/site-packages/torch/include/torch/csrc/api/include/torch/utils.h:3,\n",
      "                 from /home/bryanbed/anaconda3/envs/conda_mmdetection/lib/python3.7/site-packages/torch/include/torch/csrc/api/include/torch/nn/cloneable.h:5,\n",
      "                 from /home/bryanbed/anaconda3/envs/conda_mmdetection/lib/python3.7/site-packages/torch/include/torch/csrc/api/include/torch/nn.h:3,\n",
      "                 from /home/bryanbed/anaconda3/envs/conda_mmdetection/lib/python3.7/site-packages/torch/include/torch/csrc/api/include/torch/all.h:7,\n",
      "                 from /home/bryanbed/anaconda3/envs/conda_mmdetection/lib/python3.7/site-packages/torch/include/torch/csrc/api/include/torch/torch.h:3,\n",
      "                 from /home/bryanbed/Projects/RoMeLa_Vision/MaskTrackRCNN/mmdet/ops/roi_align/src/roi_align_cuda.cpp:1:\n",
      "/home/bryanbed/anaconda3/envs/conda_mmdetection/lib/python3.7/site-packages/torch/include/ATen/ParallelOpenMP.h:84: warning: ignoring #pragma omp parallel [-Wunknown-pragmas]\n",
      " #pragma omp parallel for if ((end - begin) >= grain_size)\n",
      " \n",
      "creating build/lib.linux-x86_64-3.7\n",
      "g++ -pthread -shared -B /home/bryanbed/anaconda3/envs/conda_mmdetection/compiler_compat -L/home/bryanbed/anaconda3/envs/conda_mmdetection/lib -Wl,-rpath=/home/bryanbed/anaconda3/envs/conda_mmdetection/lib -Wl,--no-as-needed -Wl,--sysroot=/ /home/bryanbed/Projects/RoMeLa_Vision/MaskTrackRCNN/mmdet/ops/roi_align/build/temp.linux-x86_64-3.7/src/roi_align_cuda.o /home/bryanbed/Projects/RoMeLa_Vision/MaskTrackRCNN/mmdet/ops/roi_align/build/temp.linux-x86_64-3.7/src/roi_align_kernel.o -L/home/bryanbed/anaconda3/envs/conda_mmdetection/lib/python3.7/site-packages/torch/lib -L/usr/local/cuda-10.1/lib64 -lc10 -ltorch -ltorch_cpu -ltorch_python -lcudart -lc10_cuda -ltorch_cuda -o build/lib.linux-x86_64-3.7/roi_align_cuda.cpython-37m-x86_64-linux-gnu.so\n",
      "copying build/lib.linux-x86_64-3.7/roi_align_cuda.cpython-37m-x86_64-linux-gnu.so -> \n",
      "Building roi pool op...\n",
      "running build_ext\n",
      "building 'roi_pool_cuda' extension\n",
      "creating /home/bryanbed/Projects/RoMeLa_Vision/MaskTrackRCNN/mmdet/ops/roi_pool/build\n",
      "creating /home/bryanbed/Projects/RoMeLa_Vision/MaskTrackRCNN/mmdet/ops/roi_pool/build/temp.linux-x86_64-3.7\n",
      "creating /home/bryanbed/Projects/RoMeLa_Vision/MaskTrackRCNN/mmdet/ops/roi_pool/build/temp.linux-x86_64-3.7/src\n",
      "Emitting ninja build file /home/bryanbed/Projects/RoMeLa_Vision/MaskTrackRCNN/mmdet/ops/roi_pool/build/temp.linux-x86_64-3.7/build.ninja...\n",
      "Compiling objects...\n",
      "Allowing ninja to set a default number of workers... (overridable by setting the environment variable MAX_JOBS=N)\n",
      "[1/2] /usr/local/cuda-10.1/bin/nvcc -I/home/bryanbed/anaconda3/envs/conda_mmdetection/lib/python3.7/site-packages/torch/include -I/home/bryanbed/anaconda3/envs/conda_mmdetection/lib/python3.7/site-packages/torch/include/torch/csrc/api/include -I/home/bryanbed/anaconda3/envs/conda_mmdetection/lib/python3.7/site-packages/torch/include/TH -I/home/bryanbed/anaconda3/envs/conda_mmdetection/lib/python3.7/site-packages/torch/include/THC -I/usr/local/cuda-10.1/include -I/home/bryanbed/anaconda3/envs/conda_mmdetection/include/python3.7m -c -c /home/bryanbed/Projects/RoMeLa_Vision/MaskTrackRCNN/mmdet/ops/roi_pool/src/roi_pool_kernel.cu -o /home/bryanbed/Projects/RoMeLa_Vision/MaskTrackRCNN/mmdet/ops/roi_pool/build/temp.linux-x86_64-3.7/src/roi_pool_kernel.o -D__CUDA_NO_HALF_OPERATORS__ -D__CUDA_NO_HALF_CONVERSIONS__ -D__CUDA_NO_HALF2_OPERATORS__ --expt-relaxed-constexpr --compiler-options ''\"'\"'-fPIC'\"'\"'' -DTORCH_API_INCLUDE_EXTENSION_H -DTORCH_EXTENSION_NAME=roi_pool_cuda -D_GLIBCXX_USE_CXX11_ABI=0 -gencode=arch=compute_61,code=sm_61 -std=c++14\n",
      "[2/2] c++ -MMD -MF /home/bryanbed/Projects/RoMeLa_Vision/MaskTrackRCNN/mmdet/ops/roi_pool/build/temp.linux-x86_64-3.7/src/roi_pool_cuda.o.d -pthread -B /home/bryanbed/anaconda3/envs/conda_mmdetection/compiler_compat -Wl,--sysroot=/ -Wsign-compare -DNDEBUG -g -fwrapv -O3 -Wall -Wstrict-prototypes -fPIC -I/home/bryanbed/anaconda3/envs/conda_mmdetection/lib/python3.7/site-packages/torch/include -I/home/bryanbed/anaconda3/envs/conda_mmdetection/lib/python3.7/site-packages/torch/include/torch/csrc/api/include -I/home/bryanbed/anaconda3/envs/conda_mmdetection/lib/python3.7/site-packages/torch/include/TH -I/home/bryanbed/anaconda3/envs/conda_mmdetection/lib/python3.7/site-packages/torch/include/THC -I/usr/local/cuda-10.1/include -I/home/bryanbed/anaconda3/envs/conda_mmdetection/include/python3.7m -c -c /home/bryanbed/Projects/RoMeLa_Vision/MaskTrackRCNN/mmdet/ops/roi_pool/src/roi_pool_cuda.cpp -o /home/bryanbed/Projects/RoMeLa_Vision/MaskTrackRCNN/mmdet/ops/roi_pool/build/temp.linux-x86_64-3.7/src/roi_pool_cuda.o -DTORCH_API_INCLUDE_EXTENSION_H -DTORCH_EXTENSION_NAME=roi_pool_cuda -D_GLIBCXX_USE_CXX11_ABI=0 -std=c++14\n",
      "cc1plus: warning: command line option ‘-Wstrict-prototypes’ is valid for C/ObjC but not for C++\n",
      "In file included from /home/bryanbed/anaconda3/envs/conda_mmdetection/lib/python3.7/site-packages/torch/include/ATen/Parallel.h:149,\n",
      "                 from /home/bryanbed/anaconda3/envs/conda_mmdetection/lib/python3.7/site-packages/torch/include/torch/csrc/api/include/torch/utils.h:3,\n",
      "                 from /home/bryanbed/anaconda3/envs/conda_mmdetection/lib/python3.7/site-packages/torch/include/torch/csrc/api/include/torch/nn/cloneable.h:5,\n",
      "                 from /home/bryanbed/anaconda3/envs/conda_mmdetection/lib/python3.7/site-packages/torch/include/torch/csrc/api/include/torch/nn.h:3,\n",
      "                 from /home/bryanbed/anaconda3/envs/conda_mmdetection/lib/python3.7/site-packages/torch/include/torch/csrc/api/include/torch/all.h:7,\n",
      "                 from /home/bryanbed/anaconda3/envs/conda_mmdetection/lib/python3.7/site-packages/torch/include/torch/csrc/api/include/torch/torch.h:3,\n",
      "                 from /home/bryanbed/Projects/RoMeLa_Vision/MaskTrackRCNN/mmdet/ops/roi_pool/src/roi_pool_cuda.cpp:1:\n",
      "/home/bryanbed/anaconda3/envs/conda_mmdetection/lib/python3.7/site-packages/torch/include/ATen/ParallelOpenMP.h:84: warning: ignoring #pragma omp parallel [-Wunknown-pragmas]\n",
      " #pragma omp parallel for if ((end - begin) >= grain_size)\n",
      " \n",
      "creating build/lib.linux-x86_64-3.7\n",
      "g++ -pthread -shared -B /home/bryanbed/anaconda3/envs/conda_mmdetection/compiler_compat -L/home/bryanbed/anaconda3/envs/conda_mmdetection/lib -Wl,-rpath=/home/bryanbed/anaconda3/envs/conda_mmdetection/lib -Wl,--no-as-needed -Wl,--sysroot=/ /home/bryanbed/Projects/RoMeLa_Vision/MaskTrackRCNN/mmdet/ops/roi_pool/build/temp.linux-x86_64-3.7/src/roi_pool_cuda.o /home/bryanbed/Projects/RoMeLa_Vision/MaskTrackRCNN/mmdet/ops/roi_pool/build/temp.linux-x86_64-3.7/src/roi_pool_kernel.o -L/home/bryanbed/anaconda3/envs/conda_mmdetection/lib/python3.7/site-packages/torch/lib -L/usr/local/cuda-10.1/lib64 -lc10 -ltorch -ltorch_cpu -ltorch_python -lcudart -lc10_cuda -ltorch_cuda -o build/lib.linux-x86_64-3.7/roi_pool_cuda.cpython-37m-x86_64-linux-gnu.so\n"
     ]
    },
    {
     "name": "stdout",
     "output_type": "stream",
     "text": [
      "copying build/lib.linux-x86_64-3.7/roi_pool_cuda.cpython-37m-x86_64-linux-gnu.so -> \n",
      "Building nms op...\n",
      "rm -f *.so\n",
      "echo \"Compiling nms kernels...\"\n",
      "Compiling nms kernels...\n",
      "#python setup.py build_ext --inplace\n",
      "python setup.py build_ext --inplace\n",
      "running build_ext\n",
      "building 'cpu_nms' extension\n",
      "gcc -pthread -B /home/bryanbed/anaconda3/envs/conda_mmdetection/compiler_compat -Wl,--sysroot=/ -Wsign-compare -DNDEBUG -g -fwrapv -O3 -Wall -Wstrict-prototypes -fPIC -I/home/bryanbed/anaconda3/envs/conda_mmdetection/lib/python3.7/site-packages/numpy/core/include -I/home/bryanbed/anaconda3/envs/conda_mmdetection/include/python3.7m -c cpu_nms.cpp -o build/temp.linux-x86_64-3.7/cpu_nms.o -Wno-unused-function -Wno-write-strings\n",
      "\u001b[01m\u001b[Kcc1plus:\u001b[m\u001b[K \u001b[01;35m\u001b[Kwarning: \u001b[m\u001b[Kcommand line option ‘\u001b[01m\u001b[K-Wstrict-prototypes\u001b[m\u001b[K’ is valid for C/ObjC but not for C++\n",
      "In file included from \u001b[01m\u001b[K/home/bryanbed/anaconda3/envs/conda_mmdetection/lib/python3.7/site-packages/numpy/core/include/numpy/ndarraytypes.h:1822\u001b[m\u001b[K,\n",
      "                 from \u001b[01m\u001b[K/home/bryanbed/anaconda3/envs/conda_mmdetection/lib/python3.7/site-packages/numpy/core/include/numpy/ndarrayobject.h:12\u001b[m\u001b[K,\n",
      "                 from \u001b[01m\u001b[K/home/bryanbed/anaconda3/envs/conda_mmdetection/lib/python3.7/site-packages/numpy/core/include/numpy/arrayobject.h:4\u001b[m\u001b[K,\n",
      "                 from \u001b[01m\u001b[Kcpu_nms.cpp:655\u001b[m\u001b[K:\n",
      "\u001b[01m\u001b[K/home/bryanbed/anaconda3/envs/conda_mmdetection/lib/python3.7/site-packages/numpy/core/include/numpy/npy_1_7_deprecated_api.h:17:2:\u001b[m\u001b[K \u001b[01;35m\u001b[Kwarning: \u001b[m\u001b[K#warning \"Using deprecated NumPy API, disable it with \" \"#define NPY_NO_DEPRECATED_API NPY_1_7_API_VERSION\" [\u001b[01;35m\u001b[K-Wcpp\u001b[m\u001b[K]\n",
      " #\u001b[01;35m\u001b[Kwarning\u001b[m\u001b[K \"Using deprecated NumPy API, disable it with \" \\\n",
      "  \u001b[01;35m\u001b[K^~~~~~~\u001b[m\u001b[K\n",
      "g++ -pthread -shared -B /home/bryanbed/anaconda3/envs/conda_mmdetection/compiler_compat -L/home/bryanbed/anaconda3/envs/conda_mmdetection/lib -Wl,-rpath=/home/bryanbed/anaconda3/envs/conda_mmdetection/lib -Wl,--no-as-needed -Wl,--sysroot=/ build/temp.linux-x86_64-3.7/cpu_nms.o -o /home/bryanbed/Projects/RoMeLa_Vision/MaskTrackRCNN/mmdet/ops/nms/cpu_nms.cpython-37m-x86_64-linux-gnu.so\n",
      "building 'cpu_soft_nms' extension\n",
      "gcc -pthread -B /home/bryanbed/anaconda3/envs/conda_mmdetection/compiler_compat -Wl,--sysroot=/ -Wsign-compare -DNDEBUG -g -fwrapv -O3 -Wall -Wstrict-prototypes -fPIC -I/home/bryanbed/anaconda3/envs/conda_mmdetection/lib/python3.7/site-packages/numpy/core/include -I/home/bryanbed/anaconda3/envs/conda_mmdetection/include/python3.7m -c cpu_soft_nms.cpp -o build/temp.linux-x86_64-3.7/cpu_soft_nms.o -Wno-unused-function -Wno-write-strings\n",
      "\u001b[01m\u001b[Kcc1plus:\u001b[m\u001b[K \u001b[01;35m\u001b[Kwarning: \u001b[m\u001b[Kcommand line option ‘\u001b[01m\u001b[K-Wstrict-prototypes\u001b[m\u001b[K’ is valid for C/ObjC but not for C++\n",
      "In file included from \u001b[01m\u001b[K/home/bryanbed/anaconda3/envs/conda_mmdetection/lib/python3.7/site-packages/numpy/core/include/numpy/ndarraytypes.h:1822\u001b[m\u001b[K,\n",
      "                 from \u001b[01m\u001b[K/home/bryanbed/anaconda3/envs/conda_mmdetection/lib/python3.7/site-packages/numpy/core/include/numpy/ndarrayobject.h:12\u001b[m\u001b[K,\n",
      "                 from \u001b[01m\u001b[K/home/bryanbed/anaconda3/envs/conda_mmdetection/lib/python3.7/site-packages/numpy/core/include/numpy/arrayobject.h:4\u001b[m\u001b[K,\n",
      "                 from \u001b[01m\u001b[Kcpu_soft_nms.cpp:655\u001b[m\u001b[K:\n",
      "\u001b[01m\u001b[K/home/bryanbed/anaconda3/envs/conda_mmdetection/lib/python3.7/site-packages/numpy/core/include/numpy/npy_1_7_deprecated_api.h:17:2:\u001b[m\u001b[K \u001b[01;35m\u001b[Kwarning: \u001b[m\u001b[K#warning \"Using deprecated NumPy API, disable it with \" \"#define NPY_NO_DEPRECATED_API NPY_1_7_API_VERSION\" [\u001b[01;35m\u001b[K-Wcpp\u001b[m\u001b[K]\n",
      " #\u001b[01;35m\u001b[Kwarning\u001b[m\u001b[K \"Using deprecated NumPy API, disable it with \" \\\n",
      "  \u001b[01;35m\u001b[K^~~~~~~\u001b[m\u001b[K\n",
      "\u001b[01m\u001b[Kcpu_soft_nms.cpp:\u001b[m\u001b[K In function ‘\u001b[01m\u001b[KPyObject* __pyx_pf_12cpu_soft_nms_cpu_soft_nms(PyObject*, PyArrayObject*, float, unsigned int, float, float)\u001b[m\u001b[K’:\n",
      "\u001b[01m\u001b[Kcpu_soft_nms.cpp:2511:34:\u001b[m\u001b[K \u001b[01;35m\u001b[Kwarning: \u001b[m\u001b[Kcomparison of integer expressions of different signedness: ‘\u001b[01m\u001b[Kint\u001b[m\u001b[K’ and ‘\u001b[01m\u001b[Kunsigned int\u001b[m\u001b[K’ [\u001b[01;35m\u001b[K-Wsign-compare\u001b[m\u001b[K]\n",
      "       __pyx_t_10 = ((\u001b[01;35m\u001b[K__pyx_v_pos < __pyx_v_N\u001b[m\u001b[K) != 0);\n",
      "                      \u001b[01;35m\u001b[K~~~~~~~~~~~~^~~~~~~~~~~\u001b[m\u001b[K\n",
      "\u001b[01m\u001b[Kcpu_soft_nms.cpp:3022:34:\u001b[m\u001b[K \u001b[01;35m\u001b[Kwarning: \u001b[m\u001b[Kcomparison of integer expressions of different signedness: ‘\u001b[01m\u001b[Kint\u001b[m\u001b[K’ and ‘\u001b[01m\u001b[Kunsigned int\u001b[m\u001b[K’ [\u001b[01;35m\u001b[K-Wsign-compare\u001b[m\u001b[K]\n",
      "       __pyx_t_10 = ((\u001b[01;35m\u001b[K__pyx_v_pos < __pyx_v_N\u001b[m\u001b[K) != 0);\n",
      "                      \u001b[01;35m\u001b[K~~~~~~~~~~~~^~~~~~~~~~~\u001b[m\u001b[K\n",
      "g++ -pthread -shared -B /home/bryanbed/anaconda3/envs/conda_mmdetection/compiler_compat -L/home/bryanbed/anaconda3/envs/conda_mmdetection/lib -Wl,-rpath=/home/bryanbed/anaconda3/envs/conda_mmdetection/lib -Wl,--no-as-needed -Wl,--sysroot=/ build/temp.linux-x86_64-3.7/cpu_soft_nms.o -o /home/bryanbed/Projects/RoMeLa_Vision/MaskTrackRCNN/mmdet/ops/nms/cpu_soft_nms.cpython-37m-x86_64-linux-gnu.so\n",
      "building 'gpu_nms' extension\n",
      "gcc -pthread -B /home/bryanbed/anaconda3/envs/conda_mmdetection/compiler_compat -Wl,--sysroot=/ -Wsign-compare -DNDEBUG -g -fwrapv -O3 -Wall -Wstrict-prototypes -fPIC -I/home/bryanbed/anaconda3/envs/conda_mmdetection/lib/python3.7/site-packages/numpy/core/include -I/home/bryanbed/anaconda3/envs/conda_mmdetection/include/python3.7m -c gpu_nms.cpp -o build/temp.linux-x86_64-3.7/gpu_nms.o -Wno-unused-function -Wno-write-strings\n",
      "\u001b[01m\u001b[Kcc1plus:\u001b[m\u001b[K \u001b[01;35m\u001b[Kwarning: \u001b[m\u001b[Kcommand line option ‘\u001b[01m\u001b[K-Wstrict-prototypes\u001b[m\u001b[K’ is valid for C/ObjC but not for C++\n",
      "In file included from \u001b[01m\u001b[K/home/bryanbed/anaconda3/envs/conda_mmdetection/lib/python3.7/site-packages/numpy/core/include/numpy/ndarraytypes.h:1822\u001b[m\u001b[K,\n",
      "                 from \u001b[01m\u001b[K/home/bryanbed/anaconda3/envs/conda_mmdetection/lib/python3.7/site-packages/numpy/core/include/numpy/ndarrayobject.h:12\u001b[m\u001b[K,\n",
      "                 from \u001b[01m\u001b[K/home/bryanbed/anaconda3/envs/conda_mmdetection/lib/python3.7/site-packages/numpy/core/include/numpy/arrayobject.h:4\u001b[m\u001b[K,\n",
      "                 from \u001b[01m\u001b[Kgpu_nms.cpp:657\u001b[m\u001b[K:\n",
      "\u001b[01m\u001b[K/home/bryanbed/anaconda3/envs/conda_mmdetection/lib/python3.7/site-packages/numpy/core/include/numpy/npy_1_7_deprecated_api.h:17:2:\u001b[m\u001b[K \u001b[01;35m\u001b[Kwarning: \u001b[m\u001b[K#warning \"Using deprecated NumPy API, disable it with \" \"#define NPY_NO_DEPRECATED_API NPY_1_7_API_VERSION\" [\u001b[01;35m\u001b[K-Wcpp\u001b[m\u001b[K]\n",
      " #\u001b[01;35m\u001b[Kwarning\u001b[m\u001b[K \"Using deprecated NumPy API, disable it with \" \\\n",
      "  \u001b[01;35m\u001b[K^~~~~~~\u001b[m\u001b[K\n",
      "nvcc -I/home/bryanbed/anaconda3/envs/conda_mmdetection/lib/python3.7/site-packages/numpy/core/include -I/home/bryanbed/anaconda3/envs/conda_mmdetection/include/python3.7m -c nms_kernel.cu -o build/temp.linux-x86_64-3.7/nms_kernel.o -c --compiler-options -fPIC\n",
      "g++ -pthread -shared -B /home/bryanbed/anaconda3/envs/conda_mmdetection/compiler_compat -L/home/bryanbed/anaconda3/envs/conda_mmdetection/lib -Wl,-rpath=/home/bryanbed/anaconda3/envs/conda_mmdetection/lib -Wl,--no-as-needed -Wl,--sysroot=/ build/temp.linux-x86_64-3.7/gpu_nms.o build/temp.linux-x86_64-3.7/nms_kernel.o -o /home/bryanbed/Projects/RoMeLa_Vision/MaskTrackRCNN/mmdet/ops/nms/gpu_nms.cpython-37m-x86_64-linux-gnu.so\n"
     ]
    }
   ],
   "source": [
    "# run this when we figure out the CUDA changes that need to be made\n",
    "#!pwd\n",
    "!bash compile.sh"
   ]
  },
  {
   "cell_type": "code",
   "execution_count": 275,
   "metadata": {
    "scrolled": true
   },
   "outputs": [
    {
     "name": "stdout",
     "output_type": "stream",
     "text": [
      "/home/bryanbed/Projects/RoMeLa_Vision/MaskTrackRCNN\n",
      "Processing /home/bryanbed/Projects/RoMeLa_Vision/MaskTrackRCNN\n",
      "Requirement already satisfied: mmcv in /home/bryanbed/anaconda3/envs/conda_mmdetection/lib/python3.7/site-packages (from mmdet==0.5.6+10e5d7d) (1.1.5)\n",
      "Requirement already satisfied: numpy in /home/bryanbed/anaconda3/envs/conda_mmdetection/lib/python3.7/site-packages (from mmdet==0.5.6+10e5d7d) (1.19.1)\n",
      "Requirement already satisfied: matplotlib in /home/bryanbed/anaconda3/envs/conda_mmdetection/lib/python3.7/site-packages (from mmdet==0.5.6+10e5d7d) (3.3.2)\n",
      "Requirement already satisfied: six in /home/bryanbed/anaconda3/envs/conda_mmdetection/lib/python3.7/site-packages (from mmdet==0.5.6+10e5d7d) (1.15.0)\n",
      "Requirement already satisfied: terminaltables in /home/bryanbed/anaconda3/envs/conda_mmdetection/lib/python3.7/site-packages (from mmdet==0.5.6+10e5d7d) (3.1.0)\n",
      "Requirement already satisfied: yapf in /home/bryanbed/anaconda3/envs/conda_mmdetection/lib/python3.7/site-packages (from mmcv->mmdet==0.5.6+10e5d7d) (0.30.0)\n",
      "Requirement already satisfied: addict in /home/bryanbed/anaconda3/envs/conda_mmdetection/lib/python3.7/site-packages (from mmcv->mmdet==0.5.6+10e5d7d) (2.3.0)\n",
      "Requirement already satisfied: opencv-python>=3 in /home/bryanbed/anaconda3/envs/conda_mmdetection/lib/python3.7/site-packages (from mmcv->mmdet==0.5.6+10e5d7d) (4.4.0.44)\n",
      "Requirement already satisfied: pyyaml in /home/bryanbed/anaconda3/envs/conda_mmdetection/lib/python3.7/site-packages (from mmcv->mmdet==0.5.6+10e5d7d) (5.3.1)\n",
      "Requirement already satisfied: certifi>=2020.06.20 in /home/bryanbed/anaconda3/envs/conda_mmdetection/lib/python3.7/site-packages (from matplotlib->mmdet==0.5.6+10e5d7d) (2020.6.20)\n",
      "Requirement already satisfied: python-dateutil>=2.1 in /home/bryanbed/anaconda3/envs/conda_mmdetection/lib/python3.7/site-packages (from matplotlib->mmdet==0.5.6+10e5d7d) (2.8.1)\n",
      "Requirement already satisfied: pillow>=6.2.0 in /home/bryanbed/anaconda3/envs/conda_mmdetection/lib/python3.7/site-packages (from matplotlib->mmdet==0.5.6+10e5d7d) (7.2.0)\n",
      "Requirement already satisfied: cycler>=0.10 in /home/bryanbed/anaconda3/envs/conda_mmdetection/lib/python3.7/site-packages (from matplotlib->mmdet==0.5.6+10e5d7d) (0.10.0)\n",
      "Requirement already satisfied: kiwisolver>=1.0.1 in /home/bryanbed/anaconda3/envs/conda_mmdetection/lib/python3.7/site-packages (from matplotlib->mmdet==0.5.6+10e5d7d) (1.2.0)\n",
      "Requirement already satisfied: pyparsing!=2.0.4,!=2.1.2,!=2.1.6,>=2.0.3 in /home/bryanbed/anaconda3/envs/conda_mmdetection/lib/python3.7/site-packages (from matplotlib->mmdet==0.5.6+10e5d7d) (2.4.7)\n",
      "Building wheels for collected packages: mmdet\n",
      "  Building wheel for mmdet (setup.py) ... \u001b[?25ldone\n",
      "\u001b[?25h  Created wheel for mmdet: filename=mmdet-0.5.6+10e5d7d-py3-none-any.whl size=4438021 sha256=4f66a79ba35e1f6f449f1e61e116f2548fc940da53752bfa0c1cac74b9a21f79\n",
      "  Stored in directory: /tmp/pip-ephem-wheel-cache-87qyyhn1/wheels/f5/00/87/bbb098b17c53249df627011a91660f588b9e6339abc1d751b2\n",
      "Successfully built mmdet\n",
      "Installing collected packages: mmdet\n",
      "  Attempting uninstall: mmdet\n",
      "    Found existing installation: mmdet 0.5.6+10e5d7d\n",
      "    Uninstalling mmdet-0.5.6+10e5d7d:\n",
      "      Successfully uninstalled mmdet-0.5.6+10e5d7d\n",
      "Successfully installed mmdet-0.5.6+10e5d7d\n"
     ]
    }
   ],
   "source": [
    "# run this every time we make a change.\n",
    "!pwd\n",
    "!pip install ."
   ]
  },
  {
   "cell_type": "code",
   "execution_count": 205,
   "metadata": {
    "scrolled": true
   },
   "outputs": [
    {
     "name": "stdout",
     "output_type": "stream",
     "text": [
      "Traceback (most recent call last):\r\n",
      "  File \"./tools/test_video.py\", line 11, in <module>\r\n",
      "    from mmdet.models import build_detector, detectors\r\n",
      "  File \"/home/bryanbed/anaconda3/envs/conda_mmdetection/lib/python3.7/site-packages/mmdet/models/__init__.py\", line 8, in <module>\r\n",
      "    from .detectors import *  # noqa: F401,F403\r\n",
      "  File \"/home/bryanbed/anaconda3/envs/conda_mmdetection/lib/python3.7/site-packages/mmdet/models/detectors/__init__.py\", line 1, in <module>\r\n",
      "    from .base import BaseDetector\r\n",
      "  File \"/home/bryanbed/anaconda3/envs/conda_mmdetection/lib/python3.7/site-packages/mmdet/models/detectors/base.py\", line 10, in <module>\r\n",
      "    from PIL import image\r\n",
      "ImportError: cannot import name 'image' from 'PIL' (/home/bryanbed/anaconda3/envs/conda_mmdetection/lib/python3.7/site-packages/PIL/__init__.py)\r\n"
     ]
    }
   ],
   "source": [
    "!python ./tools/test_video.py ../MaskTrackRCNN/configs/masktrack_rcnn_r50_fpn_1x_youtubevos.py models/MaskTrackRCNN_epoch_12.pth --out outputs/results.pkl --eval segm"
   ]
  },
  {
   "cell_type": "markdown",
   "metadata": {},
   "source": [
    "## setup the realsense camera and get a live stream with aligned color and depth video streams"
   ]
  },
  {
   "cell_type": "code",
   "execution_count": 2,
   "metadata": {},
   "outputs": [
    {
     "ename": "KeyboardInterrupt",
     "evalue": "",
     "output_type": "error",
     "traceback": [
      "\u001b[0;31m---------------------------------------------------------------------------\u001b[0m",
      "\u001b[0;31mKeyboardInterrupt\u001b[0m                         Traceback (most recent call last)",
      "\u001b[0;32m<ipython-input-2-e3704caf71d5>\u001b[0m in \u001b[0;36m<module>\u001b[0;34m\u001b[0m\n\u001b[1;32m     19\u001b[0m \u001b[0;32mtry\u001b[0m\u001b[0;34m:\u001b[0m\u001b[0;34m\u001b[0m\u001b[0;34m\u001b[0m\u001b[0m\n\u001b[1;32m     20\u001b[0m     \u001b[0;32mwhile\u001b[0m \u001b[0;32mTrue\u001b[0m\u001b[0;34m:\u001b[0m\u001b[0;34m\u001b[0m\u001b[0;34m\u001b[0m\u001b[0m\n\u001b[0;32m---> 21\u001b[0;31m         \u001b[0mframes\u001b[0m \u001b[0;34m=\u001b[0m \u001b[0mpipe\u001b[0m\u001b[0;34m.\u001b[0m\u001b[0mwait_for_frames\u001b[0m\u001b[0;34m(\u001b[0m\u001b[0;34m)\u001b[0m\u001b[0;34m\u001b[0m\u001b[0;34m\u001b[0m\u001b[0m\n\u001b[0m\u001b[1;32m     22\u001b[0m         \u001b[0;32mfor\u001b[0m \u001b[0mf\u001b[0m \u001b[0;32min\u001b[0m \u001b[0mframes\u001b[0m\u001b[0;34m:\u001b[0m\u001b[0;34m\u001b[0m\u001b[0;34m\u001b[0m\u001b[0m\n\u001b[1;32m     23\u001b[0m             \u001b[0mtotal_frames\u001b[0m\u001b[0;34m+=\u001b[0m \u001b[0;36m1\u001b[0m\u001b[0;34m\u001b[0m\u001b[0;34m\u001b[0m\u001b[0m\n",
      "\u001b[0;31mKeyboardInterrupt\u001b[0m: "
     ]
    }
   ],
   "source": [
    "import pyrealsense2 as rs\n",
    "import numpy as np\n",
    "import cv2\n",
    "\n",
    "pipe = rs.pipeline()\n",
    "config = rs.config()\n",
    "# config.enable_stream(rs.stream.depth, 1280, 720, rs.format.z16, 6)\n",
    "# config.enable_stream(rs.stream.color, 1280, 720, rs.format.bgr8, 6)\n",
    "config.enable_stream(rs.stream.depth, 640, 480, rs.format.z16, 30)\n",
    "config.enable_stream(rs.stream.color, 640, 480, rs.format.bgr8, 30)\n",
    "profile = pipe.start(config)\n",
    "\n",
    "total_frames = 0\n",
    "\n",
    "# Skip 5 first frames to give the Auto-Exposure time to adjust\n",
    "for x in range(5):\n",
    "    pipe.wait_for_frames()\n",
    "\n",
    "try:\n",
    "    while True:\n",
    "        frames = pipe.wait_for_frames()\n",
    "        for f in frames:\n",
    "            total_frames+= 1\n",
    "            \n",
    "        # preprocess color image stream\n",
    "        color_frame = frames.get_color_frame().get_data()\n",
    "        color_image = np.asanyarray(color_frame)\n",
    "        \n",
    "        # align depth frame to color frame\n",
    "        align = rs.align(rs.stream.color)\n",
    "        frameset = align.process(frames)\n",
    "        aligned_depth_frame = frameset.get_depth_frame()\n",
    "        \n",
    "        # preprocess colorized depth image stream\n",
    "        colorizer = rs.colorizer(color_scheme=5)\n",
    "        depth_frame_colored = colorizer.colorize(aligned_depth_frame)\n",
    "        depth_image_colored = np.asanyarray(depth_frame_colored.get_data())\n",
    "        \n",
    "        \n",
    "        \n",
    "        # stack and display images\n",
    "        images = np.hstack((color_image, depth_image_colored))\n",
    "        cv2.namedWindow('D415 Example', cv2.WINDOW_AUTOSIZE)\n",
    "        cv2.imshow('D415 Example', images)\n",
    "        key = cv2.waitKey(1)\n",
    "        # Press esc or 'q' to close the image window\n",
    "        if key & 0xFF == ord('q') or key == 27:\n",
    "            cv2.destroyAllWindows()\n",
    "            break\n",
    "        \n",
    "finally:\n",
    "    pipe.stop()\n",
    "\n",
    "print(\"Total frames: \", total_frames)\n",
    "# display last framel"
   ]
  },
  {
   "cell_type": "markdown",
   "metadata": {},
   "source": [
    "Note: Another thing we can do is record a video stream and save as a .bag, then do the same operations above on that video."
   ]
  },
  {
   "cell_type": "markdown",
   "metadata": {},
   "source": [
    "## get the color image run through VIS"
   ]
  },
  {
   "cell_type": "code",
   "execution_count": 57,
   "metadata": {},
   "outputs": [
    {
     "name": "stdout",
     "output_type": "stream",
     "text": [
      ".\t      demo\t\t  LICENSE\tsetup.py\n",
      "..\t      doc\t\t  mmdet\t\tTECHNICAL_DETAILS.md\n",
      "compile.sh    .git\t\t  models\ttools\n",
      "configs       .gitignore\t  MODEL_ZOO.md\t.travis.yml\n",
      "data\t      INSTALL.md\t  outputs\tUntitled.ipynb\n",
      "delete_later  .ipynb_checkpoints  README.md\n",
      "/home/bryanbed/Projects/RoMeLa_Vision/MaskTrackRCNN\n"
     ]
    }
   ],
   "source": [
    "!ls -a\n",
    "!cd /home/bryanbed/Projects/RoMeLa_Vision/MaskTrackRCNN/tools\n",
    "!pwd"
   ]
  },
  {
   "cell_type": "code",
   "execution_count": 291,
   "metadata": {
    "scrolled": true
   },
   "outputs": [
    {
     "name": "stdout",
     "output_type": "stream",
     "text": [
      "/home/bryanbed/Projects/RoMeLa_Vision/MaskTrackRCNN/data/live/raw_color/\n",
      "/home/bryanbed/Projects/RoMeLa_Vision/MaskTrackRCNN/data/live/raw_depth/\n",
      "/home/bryanbed/Projects/RoMeLa_Vision/MaskTrackRCNN/data/live/processed/\n",
      "loading annotations into memory...\n",
      "Done (t=0.00s)\n",
      "creating index...\n",
      "index created!\n",
      "loading annotations into memory...\n",
      "Done (t=0.00s)\n",
      "creating index...\n",
      "index created!\n",
      "loading annotations into memory...\n",
      "Done (t=0.00s)\n",
      "creating index...\n",
      "index created!\n",
      "loading annotations into memory...\n",
      "Done (t=0.00s)\n",
      "creating index...\n",
      "index created!\n",
      "loading annotations into memory...\n",
      "Done (t=0.00s)\n",
      "creating index...\n",
      "index created!\n",
      "loading annotations into memory...\n",
      "Done (t=0.00s)\n",
      "creating index...\n",
      "index created!\n",
      "loading annotations into memory...\n",
      "Done (t=0.00s)\n",
      "creating index...\n",
      "index created!\n",
      "loading annotations into memory...\n",
      "Done (t=0.00s)\n",
      "creating index...\n",
      "index created!\n",
      "loading annotations into memory...\n",
      "Done (t=0.00s)\n",
      "creating index...\n",
      "index created!\n",
      "loading annotations into memory...\n",
      "Done (t=0.00s)\n",
      "creating index...\n",
      "index created!\n",
      "loading annotations into memory...\n",
      "Done (t=0.00s)\n",
      "creating index...\n",
      "index created!\n",
      "loading annotations into memory...\n",
      "Done (t=0.00s)\n",
      "creating index...\n",
      "index created!\n",
      "loading annotations into memory...\n",
      "Done (t=0.00s)\n",
      "creating index...\n",
      "index created!\n",
      "loading annotations into memory...\n",
      "Done (t=0.00s)\n",
      "creating index...\n",
      "index created!\n",
      "loading annotations into memory...\n",
      "Done (t=0.00s)\n",
      "creating index...\n",
      "index created!\n",
      "loading annotations into memory...\n",
      "Done (t=0.00s)\n",
      "creating index...\n",
      "index created!\n",
      "loading annotations into memory...\n",
      "Done (t=0.00s)\n",
      "creating index...\n",
      "index created!\n",
      "loading annotations into memory...\n",
      "Done (t=0.00s)\n",
      "creating index...\n",
      "index created!\n",
      "loading annotations into memory...\n",
      "Done (t=0.00s)\n",
      "creating index...\n",
      "index created!\n",
      "loading annotations into memory...\n",
      "Done (t=0.00s)\n",
      "creating index...\n",
      "index created!\n",
      "loading annotations into memory...\n",
      "Done (t=0.00s)\n",
      "creating index...\n",
      "index created!\n",
      "loading annotations into memory...\n",
      "Done (t=0.00s)\n",
      "creating index...\n",
      "index created!\n",
      "loading annotations into memory...\n",
      "Done (t=0.00s)\n",
      "creating index...\n",
      "index created!\n",
      "loading annotations into memory...\n",
      "Done (t=0.00s)\n",
      "creating index...\n",
      "index created!\n",
      "loading annotations into memory...\n",
      "Done (t=0.00s)\n",
      "creating index...\n",
      "index created!\n",
      "loading annotations into memory...\n",
      "Done (t=0.00s)\n",
      "creating index...\n",
      "index created!\n",
      "loading annotations into memory...\n",
      "Done (t=0.00s)\n",
      "creating index...\n",
      "index created!\n",
      "loading annotations into memory...\n",
      "Done (t=0.00s)\n",
      "creating index...\n",
      "index created!\n",
      "loading annotations into memory...\n",
      "Done (t=0.00s)\n",
      "creating index...\n",
      "index created!\n",
      "loading annotations into memory...\n",
      "Done (t=0.00s)\n",
      "creating index...\n",
      "index created!\n",
      "loading annotations into memory...\n",
      "Done (t=0.00s)\n",
      "creating index...\n",
      "index created!\n",
      "loading annotations into memory...\n",
      "Done (t=0.00s)\n",
      "creating index...\n",
      "index created!\n",
      "loading annotations into memory...\n",
      "Done (t=0.00s)\n",
      "creating index...\n",
      "index created!\n",
      "loading annotations into memory...\n",
      "Done (t=0.00s)\n",
      "creating index...\n",
      "index created!\n",
      "loading annotations into memory...\n",
      "Done (t=0.00s)\n",
      "creating index...\n",
      "index created!\n",
      "loading annotations into memory...\n",
      "Done (t=0.00s)\n",
      "creating index...\n",
      "index created!\n",
      "loading annotations into memory...\n",
      "Done (t=0.00s)\n",
      "creating index...\n",
      "index created!\n",
      "loading annotations into memory...\n",
      "Done (t=0.00s)\n",
      "creating index...\n",
      "index created!\n",
      "loading annotations into memory...\n",
      "Done (t=0.00s)\n",
      "creating index...\n",
      "index created!\n",
      "loading annotations into memory...\n",
      "Done (t=0.00s)\n",
      "creating index...\n",
      "index created!\n",
      "loading annotations into memory...\n",
      "Done (t=0.00s)\n",
      "creating index...\n",
      "index created!\n",
      "loading annotations into memory...\n",
      "Done (t=0.00s)\n",
      "creating index...\n",
      "index created!\n",
      "total run time:  10.273777961730957\n",
      "total frames:  42\n",
      "average fps:  4.088077448865141\n"
     ]
    }
   ],
   "source": [
    "!python ./tools/test_video_live.py ../MaskTrackRCNN/configs/masktrack_rcnn_r50_fpn_1x_live.py models/MaskTrackRCNN_epoch_12.pth --out outputs/results_test.pkl --eval segm"
   ]
  },
  {
   "cell_type": "code",
   "execution_count": 48,
   "metadata": {},
   "outputs": [
    {
     "name": "stdout",
     "output_type": "stream",
     "text": [
      "/home/bryanbed/Projects/RoMeLa_Vision/MaskTrackRCNN\r\n"
     ]
    }
   ],
   "source": [
    "!pwd"
   ]
  },
  {
   "cell_type": "code",
   "execution_count": 287,
   "metadata": {},
   "outputs": [
    {
     "name": "stdout",
     "output_type": "stream",
     "text": [
      "2\n"
     ]
    }
   ],
   "source": [
    "a = [1,2]\n",
    "print(a[-1])"
   ]
  },
  {
   "cell_type": "code",
   "execution_count": 203,
   "metadata": {},
   "outputs": [
    {
     "ename": "SyntaxError",
     "evalue": "unexpected EOF while parsing (<ipython-input-203-355d7bdb5054>, line 1)",
     "output_type": "error",
     "traceback": [
      "\u001b[0;36m  File \u001b[0;32m\"<ipython-input-203-355d7bdb5054>\"\u001b[0;36m, line \u001b[0;32m1\u001b[0m\n\u001b[0;31m    for x in a.row:\u001b[0m\n\u001b[0m                   ^\u001b[0m\n\u001b[0;31mSyntaxError\u001b[0m\u001b[0;31m:\u001b[0m unexpected EOF while parsing\n"
     ]
    }
   ],
   "source": [
    "for x in a.row:\n"
   ]
  },
  {
   "cell_type": "code",
   "execution_count": null,
   "metadata": {},
   "outputs": [],
   "source": []
  }
 ],
 "metadata": {
  "kernelspec": {
   "display_name": "Python [conda env:conda_mmdetection] *",
   "language": "python",
   "name": "conda-env-conda_mmdetection-py"
  },
  "language_info": {
   "codemirror_mode": {
    "name": "ipython",
    "version": 3
   },
   "file_extension": ".py",
   "mimetype": "text/x-python",
   "name": "python",
   "nbconvert_exporter": "python",
   "pygments_lexer": "ipython3",
   "version": "3.7.9"
  }
 },
 "nbformat": 4,
 "nbformat_minor": 4
}
